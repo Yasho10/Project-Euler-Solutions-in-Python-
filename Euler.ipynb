{
  "nbformat": 4,
  "nbformat_minor": 0,
  "metadata": {
    "colab": {
      "name": "Euler",
      "provenance": [],
      "collapsed_sections": [],
      "authorship_tag": "ABX9TyN+t/Q877DeU7j7BSJgsI40",
      "include_colab_link": true
    },
    "kernelspec": {
      "name": "python3",
      "display_name": "Python 3"
    }
  },
  "cells": [
    {
      "cell_type": "markdown",
      "metadata": {
        "id": "view-in-github",
        "colab_type": "text"
      },
      "source": [
        "<a href=\"https://colab.research.google.com/github/Yasho10/Project-Euler-Solutions-in-Python-/blob/main/Euler.ipynb\" target=\"_parent\"><img src=\"https://colab.research.google.com/assets/colab-badge.svg\" alt=\"Open In Colab\"/></a>"
      ]
    },
    {
      "cell_type": "code",
      "metadata": {
        "id": "rIibc8ISvUgi"
      },
      "source": [
        "#### 1 \n",
        "l=[]\n",
        "for i in range(0,1000) :\n",
        "  if i %3 == 0 or i %5 == 0 :\n",
        "    l.append(i)\n",
        "print(sum(l))    "
      ],
      "execution_count": null,
      "outputs": []
    },
    {
      "cell_type": "code",
      "metadata": {
        "id": "VJdzXU5YvUeS",
        "colab": {
          "base_uri": "https://localhost:8080/"
        },
        "outputId": "29855a61-f461-4439-efc5-4eca21586b60"
      },
      "source": [
        "#### 2 \n",
        "z=[]\n",
        "a=0\n",
        "b=1\n",
        "i=0\n",
        "c=1\n",
        "while c < 4000000:\n",
        "  c = a + b \n",
        "  if c %2 == 0 :\n",
        "    z.append(c)\n",
        "  a=b\n",
        "  b=c\n",
        "  i -=1\n",
        "\n",
        "print(sum(z))\n"
      ],
      "execution_count": null,
      "outputs": [
        {
          "output_type": "stream",
          "text": [
            "4613732\n"
          ],
          "name": "stdout"
        }
      ]
    },
    {
      "cell_type": "code",
      "metadata": {
        "colab": {
          "base_uri": "https://localhost:8080/"
        },
        "id": "veLrGIvcOtuN",
        "outputId": "4c240bb5-8b0d-4dc7-d7ea-c91d9e7998ea"
      },
      "source": [
        "#### 3 \n",
        "def primeFactors(n):\n",
        "  l=[]\n",
        "  while n % 2 == 0:\n",
        "      l.append(2)\n",
        "      n = n / 2\n",
        "  for i in range(3,int(n**0.5)+1,2):\n",
        "    while n % i== 0:\n",
        "        l.append(i)\n",
        "        n = n / i           \n",
        "  if n > 2:\n",
        "      l.append(n)\n",
        "primeFactors(600851475143)\n",
        "print(max(l))"
      ],
      "execution_count": null,
      "outputs": [
        {
          "output_type": "stream",
          "text": [
            "6857\n"
          ],
          "name": "stdout"
        }
      ]
    },
    {
      "cell_type": "code",
      "metadata": {
        "id": "sJcqlROuTDor"
      },
      "source": [
        "#### 4 \n",
        "def ispalindrome(n):\n",
        "  p=n\n",
        "  r=0\n",
        "  while n>0:\n",
        "    b=n%10\n",
        "    r=r*10+b\n",
        "    n=n//10\n",
        "  return p==r\n",
        "  \n",
        "a=0\n",
        "k=0\n",
        "p=0\n",
        "for i in range(100,1000):\n",
        "  for j in range(i,1000):\n",
        "    mp=i*j\n",
        "    if ispalindrome(mp)==True and mp>a :\n",
        "      a=mp\n",
        "      k=i\n",
        "      p=j\n",
        "print(a,k,\"X\",p)\n"
      ],
      "execution_count": null,
      "outputs": []
    },
    {
      "cell_type": "code",
      "metadata": {
        "colab": {
          "base_uri": "https://localhost:8080/"
        },
        "id": "muTN-tswTDko",
        "outputId": "1c4f289d-9195-417e-9e9a-6ed310232030"
      },
      "source": [
        "#### 5 \n",
        "l = [11, 13, 14, 16, 17, 18, 19, 20]\n",
        "\n",
        "def one2twenty(n):\n",
        "    for num in range(n, 999999999, n):\n",
        "        if all(num % n == 0 for n in l):\n",
        "            return num\n",
        "    return None\n",
        "\n",
        "print(one2twenty(20))\n"
      ],
      "execution_count": null,
      "outputs": [
        {
          "output_type": "stream",
          "text": [
            "232792560\n"
          ],
          "name": "stdout"
        }
      ]
    },
    {
      "cell_type": "code",
      "metadata": {
        "colab": {
          "base_uri": "https://localhost:8080/"
        },
        "id": "KvybrlLQTDfz",
        "outputId": "89292281-d8cf-414c-f62e-d6e0f8b794c5"
      },
      "source": [
        "#### 6 \n",
        "sum1=0\n",
        "sum2=0\n",
        "for i in range (1,101) :\n",
        "  sum1+= i \n",
        "for j in range (1,101) :\n",
        "  sum2+= j**2\n",
        "print(sum1**2-sum2)"
      ],
      "execution_count": null,
      "outputs": [
        {
          "output_type": "stream",
          "text": [
            "25164150\n"
          ],
          "name": "stdout"
        }
      ]
    },
    {
      "cell_type": "code",
      "metadata": {
        "colab": {
          "base_uri": "https://localhost:8080/"
        },
        "id": "3W_2Ip5iXS_Y",
        "outputId": "d2ad1dfa-b0d9-44aa-9ebd-40e74fd8afda"
      },
      "source": [
        "#### 7 \n",
        "l=[]\n",
        "for n in range(2,999999999):\n",
        "  c=0\n",
        "  for i in range(2, int(n**0.5+1)):\n",
        "    if n % i == 0 :\n",
        "      c= c+1\n",
        "      continue \n",
        "  if c == 0  :    \n",
        "    l.append(n)\n",
        "  if len(l) == 10001 :\n",
        "    break \n",
        "\n",
        "print(l[-1])"
      ],
      "execution_count": null,
      "outputs": [
        {
          "output_type": "stream",
          "text": [
            "104743\n"
          ],
          "name": "stdout"
        }
      ]
    },
    {
      "cell_type": "code",
      "metadata": {
        "id": "ufj31Mf_Xgd-"
      },
      "source": [
        "#### 8 \n",
        "\n",
        "s = \"7316717653133062491922511967442657474235534919493496983520312774506326239578318016984801869478851843858615607891129494954595017379583319528532088055111254069874715852386305071569329096329522744304355766896648950445244523161731856403098711121722383113622298934233803081353362766142828064444866452387493035890729629049156044077239071381051585930796086670172427121883998797908792274921901699720888093776657273330010533678812202354218097512545405947522435258490771167055601360483958644670632441572215539753697817977846174064955149290862569321978468622482839722413756570560574902614079729686524145351004748216637048440319989000889524345065854122758866688116427171479924442928230863465674813919123162824586178664583591245665294765456828489128831426076900422421902267105562632111110937054421750694165896040807198403850962455444362981230987879927244284909188845801561660979191338754992005240636899125607176060588611646710940507754100225698315520005593572972571636269561882670428252483600823257530420752963450\"\n",
        "largestproduct = 0\n",
        "for i in range(0, len(s)-14):\n",
        "  product = 1\n",
        "  for j in range(i,i+13):\n",
        "    product *= int(s[j: j + 1])\n",
        "  if product > largestproduct:\n",
        "    largestproduct = product\n",
        "\n",
        "print (largestproduct)"
      ],
      "execution_count": null,
      "outputs": []
    },
    {
      "cell_type": "code",
      "metadata": {
        "id": "A2ccsnoQX8dB"
      },
      "source": [
        "#### 9\n",
        "l=[]\n",
        "def pythagoreanTriplets(limits) :\n",
        "    c, m = 0, 2\n",
        "    while c < limits :\n",
        "        for n in range(1, m) :\n",
        "            a = m * m - n * n\n",
        "            b = 2 * m * n\n",
        "            c = m * m + n * n\n",
        "            if c > limits :\n",
        "                break\n",
        "            l.append([a,b,c])\n",
        "        m = m + 1\n",
        "limit = 9999\n",
        "pythagoreanTriplets(limit)\n",
        "print(l)\n",
        "for i in range(len(l)) :\n",
        "  if sum(l[i])==1000 :\n",
        "    print(l[i])"
      ],
      "execution_count": null,
      "outputs": []
    },
    {
      "cell_type": "code",
      "metadata": {
        "colab": {
          "base_uri": "https://localhost:8080/"
        },
        "id": "qxTHd3IpcL4c",
        "outputId": "60c35d0c-64ca-4a8e-d8ad-48f1bf0ce3cf"
      },
      "source": [
        "#### 10 \n",
        "summ=0\n",
        "for i in range(2,2000000):\n",
        "    for j in range(2,int(i**0.5+1)):\n",
        "        if i%j==0:\n",
        "            break\n",
        "    else:\n",
        "        summ+=i\n",
        "print(summ)"
      ],
      "execution_count": null,
      "outputs": [
        {
          "output_type": "stream",
          "text": [
            "12272577818052\n"
          ],
          "name": "stdout"
        }
      ]
    },
    {
      "cell_type": "code",
      "metadata": {
        "id": "0EvsPnC1Zd0S"
      },
      "source": [
        ""
      ],
      "execution_count": null,
      "outputs": []
    }
  ]
}